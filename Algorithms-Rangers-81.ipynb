{
 "cells": [
  {
   "cell_type": "markdown",
   "metadata": {},
   "source": [
    "# Cl"
   ]
  },
  {
   "cell_type": "markdown",
   "metadata": {},
   "source": [
    "## Tasks Today:\n",
    " \n",
    "1) <b>In-Place Algorithms</b> <br>\n",
    " &nbsp;&nbsp;&nbsp;&nbsp; a) Syntax <br>\n",
    " &nbsp;&nbsp;&nbsp;&nbsp; a) Out of Place Algorithm <br>\n",
    " &nbsp;&nbsp;&nbsp;&nbsp; b) In-Class Exercise #1 <br>\n",
    "2) <b>Two Pointers</b> <br>\n",
    "3) <b>Merge Sort</b> <br>\n",
    " &nbsp;&nbsp;&nbsp;&nbsp; a) Video on Algorithms <br>\n",
    " &nbsp;&nbsp;&nbsp;&nbsp; b) How it Works <br>\n",
    "4) <b>Exercises</b> <br>\n",
    " &nbsp;&nbsp;&nbsp;&nbsp; a) Exercise #1 - Reverse a List in Place Using an In-Place Algorithm <br>\n",
    " &nbsp;&nbsp;&nbsp;&nbsp; b) Exercise #2 - Find Distinct Words <br>\n",
    " &nbsp;&nbsp;&nbsp;&nbsp; c) Exercise #3 - Write a program to implement a Linear Search Algorithm. <br>"
   ]
  },
  {
   "cell_type": "markdown",
   "metadata": {},
   "source": [
    "## In-Place Algorithms"
   ]
  },
  {
   "cell_type": "markdown",
   "metadata": {},
   "source": [
    "#### Syntax"
   ]
  },
  {
   "cell_type": "code",
   "execution_count": 1,
   "metadata": {},
   "outputs": [
    {
     "name": "stdout",
     "output_type": "stream",
     "text": [
      "my_list before swap: [10, 20, 30]\n",
      "my_list after swap: [30, 10, 20]\n"
     ]
    }
   ],
   "source": [
    "# swap algorithm\n",
    "# var[i],var[i+1] = var[i+1], var[i]\n",
    "\n",
    "def swap(alist,x,y,z):\n",
    "    alist[x], alist[y], alist[z] = alist[z], alist[x], alist[y]\n",
    "    return alist\n",
    "\n",
    "my_list = [10,20,30]\n",
    "print(f\"my_list before swap: {my_list}\")\n",
    "\n",
    "swap(my_list,0,1,2)\n",
    "print(f\"my_list after swap: {my_list}\")"
   ]
  },
  {
   "cell_type": "markdown",
   "metadata": {},
   "source": [
    "#### Out of Place Algorithm"
   ]
  },
  {
   "cell_type": "code",
   "execution_count": 6,
   "metadata": {},
   "outputs": [
    {
     "name": "stdout",
     "output_type": "stream",
     "text": [
      "Before: ['a', 'b', 'c', 'd']\n",
      "After: ['d', 'c', 'b', 'a']\n"
     ]
    }
   ],
   "source": [
    "# Reversing a list in place (use the exact same list)\n",
    "my_list.reverse()\n",
    "\n",
    "# Reversing a list out of place (create a copy of the list)\n",
    "mylist_reversed = my_list[::-1] # this only works for numbers\n",
    "\n",
    "array = ['a','b','c','d']\n",
    "new_array = ['a']*len(array)\n",
    "\n",
    "print('Before:',array)\n",
    "\n",
    "length = len(array)-1\n",
    "for i in range(length):\n",
    "    new_array[i] = array[length-i]\n",
    "array = new_array\n",
    "\n",
    "print('After:',array)"
   ]
  },
  {
   "cell_type": "markdown",
   "metadata": {},
   "source": [
    "#### In-Class Exercise #1 <br>\n",
    "<p>Write a function that takes in four arguments (list, index1, index2, index3), and swaps those three positions in the list passed in.</p>"
   ]
  },
  {
   "cell_type": "code",
   "execution_count": 26,
   "metadata": {},
   "outputs": [
    {
     "name": "stdout",
     "output_type": "stream",
     "text": [
      "[6, 4, 10, 8, 4, 2, 3]\n",
      "Index out of range!\n"
     ]
    }
   ],
   "source": [
    "l_1 = [10, 4, 3, 8, 4, 2, 6]\n",
    "\n",
    "def swap(alist,x,y,z):\n",
    "    if x < len(alist) and y < len(alist) and z < len(alist):\n",
    "        alist[x], alist[y], alist[z] = alist[z], alist[x], alist[y]\n",
    "        print(alist)\n",
    "    else:\n",
    "        print(\"Index out of range!\")\n",
    "        \n",
    "swap(l_1,0,2,6)\n",
    "swap(l_1,0,2,7)"
   ]
  },
  {
   "cell_type": "markdown",
   "metadata": {},
   "source": [
    "## Two Pointers"
   ]
  },
  {
   "cell_type": "markdown",
   "metadata": {},
   "source": [
    "#### Syntax"
   ]
  },
  {
   "cell_type": "code",
   "execution_count": 29,
   "metadata": {},
   "outputs": [
    {
     "data": {
      "text/plain": [
       "[88, 35, 12, 7, 5, 2, 1]"
      ]
     },
     "execution_count": 29,
     "metadata": {},
     "output_type": "execute_result"
    }
   ],
   "source": [
    "# alist[left], alist[right] = alist[right], alist[left]\n",
    "# use these pointers to swap... this can be done in a loop\n",
    "# you can use this outside of python! algorithms are always the same, even if the languages differ\n",
    "\n",
    "def twoPointers(alist):\n",
    "    # creating pointers\n",
    "    left = 0\n",
    "    right = len(alist)-1\n",
    "    \n",
    "    while left <= right:\n",
    "        # swap\n",
    "        alist[left], alist[right] = alist[right], alist[left]\n",
    "        left += 1  # increment\n",
    "        right -= 1  # decrement\n",
    "    return alist\n",
    "\n",
    "my_list2 = [1,2,5,7,12,35,88]\n",
    "twoPointers(my_list2)"
   ]
  },
  {
   "cell_type": "markdown",
   "metadata": {},
   "source": [
    "#### Video of Algorithms <br>\n",
    "<p>Watch the video about algorithms.</p>\n",
    "\n",
    "https://www.youtube.com/watch?v=Q9HjeFD62Uk\n",
    "\n",
    "https://www.youtube.com/watch?v=kPRA0W1kECg\n",
    "\n",
    "https://www.youtube.com/watch?v=ZZuD6iUe3Pc"
   ]
  },
  {
   "cell_type": "markdown",
   "metadata": {},
   "source": [
    "# Sorting Algorithms"
   ]
  },
  {
   "cell_type": "markdown",
   "metadata": {},
   "source": [
    "#### Bubble Sort\n",
    "\n",
    "Worst Case: O(n^2) Time - O(1) Space"
   ]
  },
  {
   "cell_type": "code",
   "execution_count": 30,
   "metadata": {},
   "outputs": [
    {
     "data": {
      "text/plain": [
       "[1, 22, 34, 44, 55, 66, 88, 100]"
      ]
     },
     "execution_count": 30,
     "metadata": {},
     "output_type": "execute_result"
    }
   ],
   "source": [
    "def swap(i, j, array):\n",
    "    array[i], array[j] = array[j], array[i]\n",
    "    \n",
    "def bubbleSort(array):\n",
    "    isSorted = False # flag\n",
    "    \n",
    "    while not isSorted:\n",
    "        isSorted = True # start the loop out with a True flag, to break out of the loop if no swap happens\n",
    "        for num in range(len(array)-1):\n",
    "            if array[num] > array[num+1]:\n",
    "                swap(num, num+1, array)\n",
    "                isSorted = False # swap happened, so set the flag to False to keep the loop going\n",
    "    return array\n",
    "\n",
    "bubbleSort([22,55,88,44,1,100,34,66])"
   ]
  },
  {
   "cell_type": "markdown",
   "metadata": {},
   "source": [
    "##### Insertion Sort\n",
    "\n",
    "Worst Case: O(n^2) time - O(1)space"
   ]
  },
  {
   "cell_type": "code",
   "execution_count": 32,
   "metadata": {},
   "outputs": [
    {
     "data": {
      "text/plain": [
       "[1, 22, 34, 44, 55, 66, 88, 100]"
      ]
     },
     "execution_count": 32,
     "metadata": {},
     "output_type": "execute_result"
    }
   ],
   "source": [
    "def swap(i, j, array):\n",
    "    array[i], array[j] = array[j], array[i]\n",
    "    \n",
    "def insertionSort(array):\n",
    "    for i in range(1,len(array)): # O(n)\n",
    "        while i > 0 and array[i] < array[i-1]: # O(n)\n",
    "            swap(i, i-1, array)\n",
    "            i -= 1\n",
    "    return array\n",
    "\n",
    "insertionSort([22,55,88,44,1,100,34,66])"
   ]
  },
  {
   "cell_type": "markdown",
   "metadata": {},
   "source": [
    "## Merge Sort"
   ]
  },
  {
   "cell_type": "markdown",
   "metadata": {},
   "source": [
    "#### How it Works"
   ]
  },
  {
   "cell_type": "code",
   "execution_count": 58,
   "metadata": {},
   "outputs": [
    {
     "name": "stdout",
     "output_type": "stream",
     "text": [
      "[15, 20, 19, 16, 13]\n",
      "Splitting... [15, 20, 19, 16, 13]\n",
      "Splitting... [15, 20]\n",
      "Splitting... [15]\n",
      "Merging... [15]\n",
      "Splitting... [20]\n",
      "Merging... [20]\n",
      "[15, 20] left merged\n",
      "Merging... [15, 20]\n",
      "Splitting... [19, 16, 13]\n",
      "Splitting... [19]\n",
      "Merging... [19]\n",
      "Splitting... [16, 13]\n",
      "Splitting... [16]\n",
      "Merging... [16]\n",
      "Splitting... [13]\n",
      "Merging... [13]\n",
      "[13, 13] right merged\n",
      "Merging... [13, 16]\n",
      "[13, 16, 13] right merged\n",
      "[13, 16, 13] right merged\n",
      "Merging... [13, 16, 19]\n",
      "[13, 20, 19, 16, 13] right merged\n",
      "[13, 15, 19, 16, 13] left merged\n",
      "[13, 15, 16, 16, 13] right merged\n",
      "[13, 15, 16, 19, 13] right merged\n",
      "Merging... [13, 15, 16, 19, 20]\n"
     ]
    },
    {
     "data": {
      "text/plain": [
       "[13, 15, 16, 19, 20]"
      ]
     },
     "execution_count": 58,
     "metadata": {},
     "output_type": "execute_result"
    }
   ],
   "source": [
    "# Step 1: Split everything into its own group\n",
    "# Step 2: From left to right, merge the groups together (two at a time)\n",
    "# Step 3: While merging, place each item in the correct position (in the larger list)\n",
    "# Step 4: Continue Steps 2-3 until we have 1 group left\n",
    "\n",
    "from random import randint\n",
    "# generate a random list of 5 numbers from 0 to 20\n",
    "nums = [randint(0,20) for i in range(5)]\n",
    "print(nums)\n",
    "\n",
    "# Merge sort\n",
    "def mergeSort(alist):\n",
    "    print(\"Splitting...\", alist)\n",
    "    \n",
    "    # Step 1: Split if not a single element\n",
    "    if len(alist) > 1:\n",
    "        mid = len(alist)//2\n",
    "        left_half = alist[:mid]\n",
    "        right_half = alist[mid:]\n",
    "        \n",
    "        # Recursively call mergeSort on the halves\n",
    "        # Then merge once they're all split up\n",
    "        mergeSort(left_half)\n",
    "        mergeSort(right_half)\n",
    "        \n",
    "        # Index pointers for lists\n",
    "        left = 0    # left half pointer\n",
    "        right = 0    # right half pointer\n",
    "        main = 0    # main array pointer\n",
    "        \n",
    "        # Step 2: Compare the half\n",
    "        while left < len(left_half) and right < len(right_half):\n",
    "            if left_half[left] < right_half[right]:\n",
    "                alist[main] = left_half[left]\n",
    "                left += 1\n",
    "                main += 1\n",
    "            else:\n",
    "                alist[main] = right_half[right]\n",
    "                right += 1\n",
    "                main += 1\n",
    "            print(alist, \"merged\")\n",
    "        \n",
    "        # Step 3: Place items in correct positions\n",
    "        while left < len(left_half):\n",
    "            alist[main] = left_half[left]\n",
    "            left += 1\n",
    "            main += 1\n",
    "        while right < len(right_half):\n",
    "            alist[main] = right_half[right]\n",
    "            right += 1\n",
    "            main += 1\n",
    "            \n",
    "    print(\"Merging...\", alist)\n",
    "    return alist\n",
    "\n",
    "mergeSort(nums)"
   ]
  },
  {
   "cell_type": "markdown",
   "metadata": {},
   "source": [
    "# Binary Search\n",
    "\n",
    "The Binary Search algorithm works by finding the number in the middle of a given array and comparing it to the target. Given that the array is sorted\n",
    "\n",
    "* The worst case run time for this algorithm is `O(log(n))`"
   ]
  },
  {
   "cell_type": "code",
   "execution_count": 67,
   "metadata": {},
   "outputs": [
    {
     "data": {
      "text/plain": [
       "'The index of 15 is 2.'"
      ]
     },
     "execution_count": 67,
     "metadata": {},
     "output_type": "execute_result"
    }
   ],
   "source": [
    "# THE LIST MUST BE SORTED !!\n",
    "\n",
    "def binarySearchHelperFunction(array, target, left, right):\n",
    "    while left <= right:\n",
    "        middle = (left + right) // 2\n",
    "        potential_match = array[middle]\n",
    "        if target == potential_match:\n",
    "            return f\"The index of {target} is {middle}.\"\n",
    "        elif target < potential_match:\n",
    "            right = middle - 1\n",
    "        else:\n",
    "            left = middle + 1\n",
    "    return -1\n",
    "\n",
    "def binarySearch(array, target):\n",
    "    return binarySearchHelperFunction(array, target, 0, len(array)-1)\n",
    "\n",
    "nums = [13,15,15,16,19,20]\n",
    "binarySearch(nums,15)"
   ]
  },
  {
   "cell_type": "markdown",
   "metadata": {},
   "source": [
    "# Exercises"
   ]
  },
  {
   "cell_type": "markdown",
   "metadata": {},
   "source": [
    "### Exercise #1 <br>\n",
    "<p>Reverse the list below in-place using an in-place algorithm.<br>For extra credit: Reverse the strings at the same time.</p>"
   ]
  },
  {
   "cell_type": "code",
   "execution_count": 97,
   "metadata": {},
   "outputs": [
    {
     "data": {
      "text/plain": [
       "['.', 'ecnetnes', 'a', 'si', 'siht']"
      ]
     },
     "execution_count": 97,
     "metadata": {},
     "output_type": "execute_result"
    }
   ],
   "source": [
    "words = ['this' , 'is', 'a', 'sentence', '.']\n",
    "\n",
    "def notTwoPointers(alist):\n",
    "    left = 0\n",
    "    right = len(alist)-1\n",
    "    \n",
    "    while left <= right:\n",
    "        alist[left], alist[right] = alist[right], alist[left]\n",
    "        alist[left] = ''.join(reversed(alist[left]))\n",
    "        alist[right] = ''.join(reversed(alist[right]))\n",
    "        left += 1\n",
    "        right -= 1\n",
    "    return alist\n",
    "\n",
    "notTwoPointers(words)"
   ]
  },
  {
   "cell_type": "markdown",
   "metadata": {},
   "source": [
    "### Exercise #2 <br>\n",
    "<p>Create a function that counts how many distinct words are in the string below, then outputs a dictionary with the words as the key and the value as the amount of times that word appears in the string.<br>Should output:<br>{'a': 5,<br>\n",
    " 'abstract': 1,<br>\n",
    " 'an': 3,<br>\n",
    " 'array': 2, ... etc...</p>"
   ]
  },
  {
   "cell_type": "code",
   "execution_count": 92,
   "metadata": {},
   "outputs": [
    {
     "name": "stdout",
     "output_type": "stream",
     "text": [
      "{'in': 1, 'computing': 1, 'a': 5, 'hash': 4, 'table': 2, 'map': 2, 'is': 1, 'data': 2, 'structure': 2, 'which': 2, 'implements': 1, 'an': 3, 'associative': 1, 'array': 2, 'abstract': 1, 'type': 1, 'that': 1, 'can': 2, 'keys': 1, 'to': 2, 'values': 1, 'uses': 1, 'function': 1, 'compute': 1, 'index': 1, 'into': 1, 'of': 1, 'buckets': 1, 'or': 1, 'slots': 1, 'from': 1, 'the': 1, 'desired': 1, 'value': 1, 'be': 1, 'found': 1}\n"
     ]
    }
   ],
   "source": [
    "a_text = 'In computing, a hash table hash map is a data structure which implements an associative array abstract data type, a structure that can map keys to values. A hash table uses a hash function to compute an index into an array of buckets or slots from which the desired value can be found'\n",
    "\n",
    "str_list = list(a_text.split())\n",
    "# print(len(str_list))\n",
    "\n",
    "def countWords(astring):\n",
    "    str_list = list(astring.lower().split())\n",
    "    word_dict = {}\n",
    "    for i in range(0, len(str_list)):\n",
    "        str_list[i] = str_list[i].strip(\",.\")\n",
    "        if str_list[i] in word_dict:\n",
    "            word_dict[str_list[i]] += 1\n",
    "        else:\n",
    "            word_dict[str_list[i]] = 1\n",
    "    print(word_dict)\n",
    "\n",
    "countWords(a_text)"
   ]
  },
  {
   "cell_type": "markdown",
   "metadata": {},
   "source": [
    "## Exercise #3\n",
    "\n",
    "Write a program to implement a Linear Search Algorithm. Also in a comment, write the Time Complexity of the following algorithm.\n",
    "\n",
    "#### Hint: Linear Searching will require searching a list for a given number. "
   ]
  },
  {
   "cell_type": "code",
   "execution_count": 93,
   "metadata": {},
   "outputs": [
    {
     "name": "stdout",
     "output_type": "stream",
     "text": [
      "The number 88 is in index 2 of your list!\n",
      "The number 11 is not present in your list...\n"
     ]
    }
   ],
   "source": [
    "def linSearch(array, num):\n",
    "    flaggo = False\n",
    "    for i in range(len(array)):\n",
    "        if array[i] == num:\n",
    "            print(f\"The number {num} is in index {i} of your list!\")\n",
    "            flaggo = True\n",
    "        \n",
    "    if flaggo == False:\n",
    "        print(f\"The number {num} is not present in your list...\")\n",
    "            \n",
    "linSearch([22,55,88,44,1,100,34,66], 88)\n",
    "linSearch([22,55,88,44,1,100,34,66], 11)\n",
    "# O(n) time complexity"
   ]
  }
 ],
 "metadata": {
  "kernelspec": {
   "display_name": "Python 3 (ipykernel)",
   "language": "python",
   "name": "python3"
  },
  "language_info": {
   "codemirror_mode": {
    "name": "ipython",
    "version": 3
   },
   "file_extension": ".py",
   "mimetype": "text/x-python",
   "name": "python",
   "nbconvert_exporter": "python",
   "pygments_lexer": "ipython3",
   "version": "3.9.7"
  }
 },
 "nbformat": 4,
 "nbformat_minor": 2
}
